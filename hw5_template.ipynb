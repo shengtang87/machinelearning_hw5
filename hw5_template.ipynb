{
  "cells": [
    {
      "cell_type": "markdown",
      "metadata": {
        "id": "4hiUrTp2g31d"
      },
      "source": [
        "(optional)"
      ]
    },
    {
      "cell_type": "code",
      "execution_count": 1,
      "metadata": {
        "colab": {
          "base_uri": "https://localhost:8080/"
        },
        "id": "02ixxyXJQRNO",
        "outputId": "ff7cbc3f-e691-4623-c39b-6f43de4f798a"
      },
      "outputs": [
        {
          "name": "stdout",
          "output_type": "stream",
          "text": [
            "Drive already mounted at /content/drive; to attempt to forcibly remount, call drive.mount(\"/content/drive\", force_remount=True).\n"
          ]
        }
      ],
      "source": [
        "from google.colab import drive\n",
        "import os\n",
        "drive.mount('/content/drive')"
      ]
    },
    {
      "cell_type": "code",
      "execution_count": 2,
      "metadata": {
        "id": "cwb1U7JElJPa"
      },
      "outputs": [],
      "source": [
        "os.chdir('/content/drive/MyDrive/work/ml_hw5')"
      ]
    },
    {
      "cell_type": "markdown",
      "metadata": {
        "id": "CQX9eCfIcRAn"
      },
      "source": [
        "# **HW5: Brain signal classification**\n",
        "In *HW 5*, you need to finish:\n",
        "\n",
        "1.  Model Implementation Part: Implement LSTM and EEGNet models to predict the label of each samples.\n",
        "\n",
        "2.  Model Competition Part: Implementing a model to reach better accuracy performance."
      ]
    },
    {
      "cell_type": "code",
      "execution_count": 3,
      "metadata": {
        "id": "BKJDTLRvQrnY"
      },
      "outputs": [],
      "source": [
        "import numpy as np\n",
        "import os\n",
        "import math\n",
        "import csv\n",
        "import matplotlib.pyplot as plt\n",
        "# Import the packages you need here\n",
        "import sys\n",
        "import tensorflow as tf\n",
        "from tensorflow import keras\n",
        "from tensorflow.keras import layers\n",
        "from keras.models import Sequential\n",
        "from keras.layers import Dense,LSTM\n",
        "import time"
      ]
    },
    {
      "cell_type": "code",
      "execution_count": 4,
      "metadata": {
        "id": "ZQQylnWHQ4yy"
      },
      "outputs": [],
      "source": [
        "data = np.load('data.npz')\n",
        "label = np.load('label.npz')"
      ]
    },
    {
      "cell_type": "code",
      "execution_count": 5,
      "metadata": {
        "id": "3Ype-nIkQ-bf"
      },
      "outputs": [],
      "source": [
        "X_train = data['X_train']\n",
        "X_val = data['X_val']\n",
        "X_test = data['X_test']\n",
        "\n",
        "Y_train = label['Y_train']\n",
        "Y_val = label['Y_val']"
      ]
    },
    {
      "cell_type": "code",
      "execution_count": 6,
      "metadata": {
        "colab": {
          "base_uri": "https://localhost:8080/"
        },
        "id": "xjPvKG_im7mV",
        "outputId": "574c7cad-c06e-46be-ea99-c13061de8646"
      },
      "outputs": [
        {
          "data": {
            "text/plain": [
              "((604, 22, 200), (152, 22, 200), (190, 22, 200))"
            ]
          },
          "execution_count": 6,
          "metadata": {},
          "output_type": "execute_result"
        }
      ],
      "source": [
        "X_train.shape, X_val.shape, X_test.shape"
      ]
    },
    {
      "cell_type": "code",
      "execution_count": 7,
      "metadata": {
        "colab": {
          "base_uri": "https://localhost:8080/"
        },
        "id": "X7apA2_-lBjF",
        "outputId": "8ac8e615-d97f-434e-b27a-1c912a8e52ce"
      },
      "outputs": [
        {
          "data": {
            "text/plain": [
              "((604, 1), (152, 1))"
            ]
          },
          "execution_count": 7,
          "metadata": {},
          "output_type": "execute_result"
        }
      ],
      "source": [
        "Y_train.shape, Y_val.shape"
      ]
    },
    {
      "cell_type": "code",
      "execution_count": 8,
      "metadata": {
        "colab": {
          "base_uri": "https://localhost:8080/"
        },
        "id": "xp6OlhUTe5Hu",
        "outputId": "ac93651d-350a-4193-9365-8c16832888d7"
      },
      "outputs": [
        {
          "data": {
            "text/plain": [
              "((604, 200, 22),\n",
              " (152, 200, 22),\n",
              " (190, 200, 22),\n",
              " (604, 1),\n",
              " (152, 1),\n",
              " (190, 200, 22))"
            ]
          },
          "execution_count": 8,
          "metadata": {},
          "output_type": "execute_result"
        }
      ],
      "source": [
        "np.set_printoptions(threshold=sys.maxsize)\n",
        "\n",
        "# Y_train = Y_train.reshape(604,)\n",
        "# Y_train = Y_train.astype(int)\n",
        "# Y_train = np.eye(6)[Y_train]\n",
        "\n",
        "\n",
        "# Y_val = Y_val.reshape(152,)\n",
        "# Y_val = Y_val.astype(int)\n",
        "# Y_val = np.eye(6)[Y_val]\n",
        "\n",
        "# display(\"-------------------------------------\")\n",
        "\n",
        "X_train = np.transpose(X_train, (0, 2, 1))\n",
        "X_val = np.transpose(X_val, (0, 2, 1))\n",
        "X_test = np.transpose(X_test, (0, 2, 1))\n",
        "\n",
        "X_train.shape, X_val.shape, X_test.shape,Y_train.shape, Y_val.shape, X_test.shape"
      ]
    },
    {
      "cell_type": "markdown",
      "metadata": {
        "id": "diYYd3e7eopi"
      },
      "source": [
        "## Model Implementation Part"
      ]
    },
    {
      "cell_type": "markdown",
      "metadata": {
        "id": "97BpHWOAevWJ"
      },
      "source": [
        "### LSTM"
      ]
    },
    {
      "cell_type": "code",
      "execution_count": 9,
      "metadata": {
        "colab": {
          "base_uri": "https://localhost:8080/"
        },
        "id": "xxFGe6YRe7qn",
        "outputId": "0e2f321f-b351-44cc-b556-dfcff1cbc07f"
      },
      "outputs": [
        {
          "name": "stdout",
          "output_type": "stream",
          "text": [
            "Model: \"sequential\"\n",
            "_________________________________________________________________\n",
            " Layer (type)                Output Shape              Param #   \n",
            "=================================================================\n",
            " lstm (LSTM)                 (None, 64)                22272     \n",
            "                                                                 \n",
            " dense (Dense)               (None, 6)                 390       \n",
            "                                                                 \n",
            "=================================================================\n",
            "Total params: 22,662\n",
            "Trainable params: 22,662\n",
            "Non-trainable params: 0\n",
            "_________________________________________________________________\n",
            "Epoch 1/50\n",
            "19/19 [==============================] - 6s 78ms/step - loss: 1.6892 - accuracy: 0.3129 - val_loss: 1.5379 - val_accuracy: 0.3882\n",
            "Epoch 2/50\n",
            "19/19 [==============================] - 0s 17ms/step - loss: 1.3835 - accuracy: 0.4752 - val_loss: 1.4204 - val_accuracy: 0.4276\n",
            "Epoch 3/50\n",
            "19/19 [==============================] - 0s 21ms/step - loss: 1.2086 - accuracy: 0.5977 - val_loss: 1.3374 - val_accuracy: 0.4605\n",
            "Epoch 4/50\n",
            "19/19 [==============================] - 0s 17ms/step - loss: 1.0777 - accuracy: 0.6656 - val_loss: 1.2770 - val_accuracy: 0.5000\n",
            "Epoch 5/50\n",
            "19/19 [==============================] - 0s 18ms/step - loss: 0.9494 - accuracy: 0.7252 - val_loss: 1.2294 - val_accuracy: 0.5197\n",
            "Epoch 6/50\n",
            "19/19 [==============================] - 0s 17ms/step - loss: 0.8436 - accuracy: 0.7467 - val_loss: 1.1725 - val_accuracy: 0.5461\n",
            "Epoch 7/50\n",
            "19/19 [==============================] - 0s 20ms/step - loss: 0.7389 - accuracy: 0.8096 - val_loss: 1.1186 - val_accuracy: 0.5855\n",
            "Epoch 8/50\n",
            "19/19 [==============================] - 0s 18ms/step - loss: 0.6476 - accuracy: 0.8477 - val_loss: 1.0711 - val_accuracy: 0.5855\n",
            "Epoch 9/50\n",
            "19/19 [==============================] - 0s 17ms/step - loss: 0.5658 - accuracy: 0.8692 - val_loss: 1.0256 - val_accuracy: 0.5987\n",
            "Epoch 10/50\n",
            "19/19 [==============================] - 0s 20ms/step - loss: 0.4861 - accuracy: 0.9089 - val_loss: 0.9904 - val_accuracy: 0.6118\n",
            "Epoch 11/50\n",
            "19/19 [==============================] - 0s 17ms/step - loss: 0.4233 - accuracy: 0.9255 - val_loss: 0.9239 - val_accuracy: 0.6382\n",
            "Epoch 12/50\n",
            "19/19 [==============================] - 0s 21ms/step - loss: 0.3623 - accuracy: 0.9437 - val_loss: 0.8883 - val_accuracy: 0.6645\n",
            "Epoch 13/50\n",
            "19/19 [==============================] - 0s 23ms/step - loss: 0.3076 - accuracy: 0.9570 - val_loss: 0.8784 - val_accuracy: 0.6842\n",
            "Epoch 14/50\n",
            "19/19 [==============================] - 0s 24ms/step - loss: 0.2643 - accuracy: 0.9702 - val_loss: 0.8414 - val_accuracy: 0.6908\n",
            "Epoch 15/50\n",
            "19/19 [==============================] - 0s 20ms/step - loss: 0.2228 - accuracy: 0.9752 - val_loss: 0.8074 - val_accuracy: 0.7105\n",
            "Epoch 16/50\n",
            "19/19 [==============================] - 0s 19ms/step - loss: 0.1918 - accuracy: 0.9818 - val_loss: 0.7873 - val_accuracy: 0.7303\n",
            "Epoch 17/50\n",
            "19/19 [==============================] - 0s 22ms/step - loss: 0.1654 - accuracy: 0.9868 - val_loss: 0.7510 - val_accuracy: 0.7368\n",
            "Epoch 18/50\n",
            "19/19 [==============================] - 0s 22ms/step - loss: 0.1426 - accuracy: 0.9884 - val_loss: 0.7424 - val_accuracy: 0.7500\n",
            "Epoch 19/50\n",
            "19/19 [==============================] - 0s 22ms/step - loss: 0.1214 - accuracy: 0.9934 - val_loss: 0.7229 - val_accuracy: 0.7632\n",
            "Epoch 20/50\n",
            "19/19 [==============================] - 0s 15ms/step - loss: 0.1057 - accuracy: 0.9950 - val_loss: 0.7090 - val_accuracy: 0.7697\n",
            "Epoch 21/50\n",
            "19/19 [==============================] - 0s 18ms/step - loss: 0.0931 - accuracy: 0.9950 - val_loss: 0.6909 - val_accuracy: 0.7763\n",
            "Epoch 22/50\n",
            "19/19 [==============================] - 0s 19ms/step - loss: 0.0810 - accuracy: 0.9983 - val_loss: 0.6774 - val_accuracy: 0.7829\n",
            "Epoch 23/50\n",
            "19/19 [==============================] - 0s 22ms/step - loss: 0.0709 - accuracy: 1.0000 - val_loss: 0.6603 - val_accuracy: 0.7763\n",
            "Epoch 24/50\n",
            "19/19 [==============================] - 0s 16ms/step - loss: 0.0633 - accuracy: 1.0000 - val_loss: 0.6379 - val_accuracy: 0.7763\n",
            "Epoch 25/50\n",
            "19/19 [==============================] - 0s 25ms/step - loss: 0.0561 - accuracy: 1.0000 - val_loss: 0.6334 - val_accuracy: 0.7961\n",
            "Epoch 26/50\n",
            "19/19 [==============================] - 0s 12ms/step - loss: 0.0492 - accuracy: 1.0000 - val_loss: 0.6247 - val_accuracy: 0.8158\n",
            "Epoch 27/50\n",
            "19/19 [==============================] - 0s 13ms/step - loss: 0.0432 - accuracy: 1.0000 - val_loss: 0.6116 - val_accuracy: 0.8092\n",
            "Epoch 28/50\n",
            "19/19 [==============================] - 0s 11ms/step - loss: 0.0383 - accuracy: 1.0000 - val_loss: 0.5836 - val_accuracy: 0.8158\n",
            "Epoch 29/50\n",
            "19/19 [==============================] - 0s 11ms/step - loss: 0.0342 - accuracy: 1.0000 - val_loss: 0.5766 - val_accuracy: 0.8224\n",
            "Epoch 30/50\n",
            "19/19 [==============================] - 0s 10ms/step - loss: 0.0313 - accuracy: 1.0000 - val_loss: 0.5725 - val_accuracy: 0.8224\n",
            "Epoch 31/50\n",
            "19/19 [==============================] - 0s 11ms/step - loss: 0.0289 - accuracy: 1.0000 - val_loss: 0.5725 - val_accuracy: 0.8224\n",
            "Epoch 32/50\n",
            "19/19 [==============================] - 0s 10ms/step - loss: 0.0261 - accuracy: 1.0000 - val_loss: 0.5590 - val_accuracy: 0.8224\n",
            "Epoch 33/50\n",
            "19/19 [==============================] - 0s 11ms/step - loss: 0.0239 - accuracy: 1.0000 - val_loss: 0.5541 - val_accuracy: 0.8289\n",
            "Epoch 34/50\n",
            "19/19 [==============================] - 0s 11ms/step - loss: 0.0220 - accuracy: 1.0000 - val_loss: 0.5489 - val_accuracy: 0.8421\n",
            "Epoch 35/50\n",
            "19/19 [==============================] - 0s 13ms/step - loss: 0.0204 - accuracy: 1.0000 - val_loss: 0.5427 - val_accuracy: 0.8421\n",
            "Epoch 36/50\n",
            "19/19 [==============================] - 0s 11ms/step - loss: 0.0186 - accuracy: 1.0000 - val_loss: 0.5381 - val_accuracy: 0.8421\n",
            "Epoch 37/50\n",
            "19/19 [==============================] - 0s 10ms/step - loss: 0.0172 - accuracy: 1.0000 - val_loss: 0.5304 - val_accuracy: 0.8421\n",
            "Epoch 38/50\n",
            "19/19 [==============================] - 0s 10ms/step - loss: 0.0160 - accuracy: 1.0000 - val_loss: 0.5232 - val_accuracy: 0.8421\n",
            "Epoch 39/50\n",
            "19/19 [==============================] - 0s 10ms/step - loss: 0.0147 - accuracy: 1.0000 - val_loss: 0.5151 - val_accuracy: 0.8553\n",
            "Epoch 40/50\n",
            "19/19 [==============================] - 0s 10ms/step - loss: 0.0201 - accuracy: 1.0000 - val_loss: 0.5744 - val_accuracy: 0.8355\n",
            "Epoch 41/50\n",
            "19/19 [==============================] - 0s 10ms/step - loss: 0.0634 - accuracy: 0.9851 - val_loss: 0.6462 - val_accuracy: 0.7895\n",
            "Epoch 42/50\n",
            "19/19 [==============================] - 0s 11ms/step - loss: 0.0453 - accuracy: 0.9950 - val_loss: 0.6569 - val_accuracy: 0.7829\n",
            "Epoch 43/50\n",
            "19/19 [==============================] - 0s 10ms/step - loss: 0.0311 - accuracy: 1.0000 - val_loss: 0.6763 - val_accuracy: 0.7895\n",
            "Epoch 44/50\n",
            "19/19 [==============================] - 0s 11ms/step - loss: 0.0237 - accuracy: 0.9983 - val_loss: 0.6650 - val_accuracy: 0.7829\n",
            "Epoch 45/50\n",
            "19/19 [==============================] - 0s 10ms/step - loss: 0.0180 - accuracy: 1.0000 - val_loss: 0.6176 - val_accuracy: 0.8158\n",
            "Epoch 46/50\n",
            "19/19 [==============================] - 0s 11ms/step - loss: 0.0145 - accuracy: 1.0000 - val_loss: 0.6097 - val_accuracy: 0.8158\n",
            "Epoch 47/50\n",
            "19/19 [==============================] - 0s 10ms/step - loss: 0.0126 - accuracy: 1.0000 - val_loss: 0.6141 - val_accuracy: 0.8092\n",
            "Epoch 48/50\n",
            "19/19 [==============================] - 0s 10ms/step - loss: 0.0114 - accuracy: 1.0000 - val_loss: 0.6039 - val_accuracy: 0.8158\n",
            "Epoch 49/50\n",
            "19/19 [==============================] - 0s 11ms/step - loss: 0.0104 - accuracy: 1.0000 - val_loss: 0.5909 - val_accuracy: 0.8224\n",
            "Epoch 50/50\n",
            "19/19 [==============================] - 0s 13ms/step - loss: 0.0095 - accuracy: 1.0000 - val_loss: 0.5834 - val_accuracy: 0.8224\n",
            "Training time: 20.99453568458557s\n"
          ]
        }
      ],
      "source": [
        "# Build your model here:\n",
        "\n",
        "\n",
        "n_steps = 200\n",
        "n_features = 22\n",
        "model = Sequential()\n",
        "model.add(LSTM(64, return_sequences=False, input_shape = (200, 22)))\n",
        "model.add(Dense(6, activation='softmax'))\n",
        "model.summary()\n",
        "model.compile(optimizer='adam',\n",
        "              loss='sparse_categorical_crossentropy',\n",
        "              metrics=['accuracy'])\n",
        "\n",
        "\n",
        "epoch=50\n",
        "start = time.time()\n",
        "history = model.fit(X_train, Y_train,batch_size = 32, epochs=epoch, validation_data=(X_val, Y_val))\n",
        "stop = time.time()\n",
        "print(f\"Training time: {stop - start}s\")\n",
        "# history = model.fit(X_train, y_train, epochs=epoch)\n"
      ]
    },
    {
      "cell_type": "code",
      "execution_count": 10,
      "metadata": {
        "colab": {
          "base_uri": "https://localhost:8080/",
          "height": 298
        },
        "id": "gUgMoT6g6E_T",
        "outputId": "03c63ddf-152f-4a9e-dd0f-3c9e17051c80"
      },
      "outputs": [
        {
          "data": {
            "text/plain": [
              "<matplotlib.legend.Legend at 0x7faf126a05e0>"
            ]
          },
          "execution_count": 10,
          "metadata": {},
          "output_type": "execute_result"
        },
        {
          "data": {
            "image/png": "[encoded data removed]",
            "text/plain": [
              "<Figure size 432x288 with 1 Axes>"
            ]
          },
          "metadata": {
            "needs_background": "light"
          },
          "output_type": "display_data"
        }
      ],
      "source": [
        "plt.plot(history.history['loss'], label='loss')\n",
        "plt.xlabel('Epoch')\n",
        "plt.ylabel('loss')\n",
        "# plt.ylim([0.5, 1])\n",
        "plt.legend(loc='lower right')\n",
        "\n"
      ]
    },
    {
      "cell_type": "code",
      "execution_count": 11,
      "metadata": {
        "colab": {
          "base_uri": "https://localhost:8080/",
          "height": 296
        },
        "id": "-mVogmt96mPX",
        "outputId": "782b5e76-a1ed-480d-94c2-7e93bfe6b000"
      },
      "outputs": [
        {
          "data": {
            "text/plain": [
              "<matplotlib.legend.Legend at 0x7faeac16ab20>"
            ]
          },
          "execution_count": 11,
          "metadata": {},
          "output_type": "execute_result"
        },
        {
          "data": {
            "image/png": "[encoded data removed]",
            "text/plain": [
              "<Figure size 432x288 with 1 Axes>"
            ]
          },
          "metadata": {
            "needs_background": "light"
          },
          "output_type": "display_data"
        }
      ],
      "source": [
        "\n",
        "plt.plot(history.history['accuracy'], label='accuracy')\n",
        "plt.plot(history.history['val_accuracy'], label = 'val_accuracy')\n",
        "plt.xlabel('Epoch')\n",
        "plt.ylabel('Accuracy')\n",
        "# plt.ylim([0.5, 1])\n",
        "plt.legend(loc='lower right')"
      ]
    },
    {
      "cell_type": "code",
      "execution_count": 12,
      "metadata": {
        "colab": {
          "base_uri": "https://localhost:8080/"
        },
        "id": "r-OyhAmw6SUy",
        "outputId": "025a1dad-02b9-4672-c81c-5a8975dd48ef"
      },
      "outputs": [
        {
          "name": "stdout",
          "output_type": "stream",
          "text": [
            "6/6 [==============================] - 0s 5ms/step\n",
            "[0 3 4 2 5 1 0 0 5 0 0 2 3 5 5 3 5 5 1 5 1 1 5 5 3 3 2 1 3 2 5 5 0 0 2 0 5\n",
            " 5 2 2 4 0 4 4 2 2 3 0 4 2 2 4 3 3 4 3 5 2 0 1 4 5 1 1 4 3 1 2 1 4 5 4 2 4\n",
            " 2 3 3 1 3 2 1 4 0 1 1 5 1 1 1 4 2 5 5 2 4 1 0 5 2 5 2 4 4 2 3 4 1 2 1 0 1\n",
            " 1 2 4 3 3 1 4 1 1 5 5 3 1 3 0 0 0 3 1 0 5 0 2 3 4 0 1 3 3 5 0 2 5 4 1 3 3\n",
            " 3 1 5 3 1 2 1 1 0 0 2 3 1 1 3 5 0 5 5 5 4 1 2 1 5 2 4 1 1 4 2 4 2 3 4 2 4\n",
            " 3 0 1 1 1]\n"
          ]
        }
      ],
      "source": [
        "pred_test = model.predict(X_test)\n",
        "pred_test = np.argmax(pred_test, axis = 1)\n",
        "print(pred_test)"
      ]
    },
    {
      "cell_type": "code",
      "execution_count": 13,
      "metadata": {
        "id": "sIXH_6BHjm6w"
      },
      "outputs": [],
      "source": [
        "output = pred_test.reshape(190,1)\n",
        "# display(output)\n",
        "assert(output.shape == (190, 1))\n",
        "np.savetxt('lstm_output.csv', output, delimiter=\",\")"
      ]
    },
    {
      "cell_type": "markdown",
      "metadata": {
        "id": "xSGZPbDHrfOr"
      },
      "source": [
        "### EEGNet"
      ]
    },
    {
      "cell_type": "code",
      "execution_count": 14,
      "metadata": {
        "colab": {
          "base_uri": "https://localhost:8080/",
          "height": 70
        },
        "id": "7jIZZEiMlA7W",
        "outputId": "05451c50-04c0-4d3a-a7c9-b6b463e5b56e"
      },
      "outputs": [
        {
          "data": {
            "text/plain": [
              "(152, 22, 200)"
            ]
          },
          "metadata": {},
          "output_type": "display_data"
        },
        {
          "data": {
            "application/vnd.google.colaboratory.intrinsic+json": {
              "type": "string"
            },
            "text/plain": [
              "'--------------------------------------------------'"
            ]
          },
          "metadata": {},
          "output_type": "display_data"
        },
        {
          "data": {
            "text/plain": [
              "(152, 22, 200)"
            ]
          },
          "metadata": {},
          "output_type": "display_data"
        }
      ],
      "source": [
        "X_train = np.transpose(X_train, (0, 2, 1))\n",
        "X_val = np.transpose(X_val, (0, 2, 1))\n",
        "X_test = np.transpose(X_test, (0, 2, 1))\n",
        "\n",
        "\n",
        "\n",
        "display(X_val.shape)\n",
        "# display(X_val[0])\n",
        "display(\"--------------------------------------------------\")\n",
        "# X_val = X_val.reshape(X_val.shape[0],1,X_val.shape[1],X_val.shape[2])\n",
        "# X_train = X_train.reshape(X_train.shape[0],1,X_train.shape[1],X_train.shape[2])\n",
        "# X_test = X_test.reshape(X_test.shape[0],1,X_test.shape[1],X_test.shape[2])\n",
        "display(X_val.shape)\n",
        "# display(X_val[0])"
      ]
    },
    {
      "cell_type": "code",
      "execution_count": 15,
      "metadata": {
        "id": "3m92PuA32sDq"
      },
      "outputs": [],
      "source": [
        "from tensorflow.keras.models import Model\n",
        "from tensorflow.keras.layers import Dense, Activation, Permute, Dropout\n",
        "from tensorflow.keras.layers import Conv2D, MaxPooling2D, AveragePooling2D\n",
        "from tensorflow.keras.layers import SeparableConv2D, DepthwiseConv2D\n",
        "from tensorflow.keras.layers import BatchNormalization\n",
        "from tensorflow.keras.layers import SpatialDropout2D\n",
        "from tensorflow.keras.regularizers import l1_l2\n",
        "from tensorflow.keras.layers import Input, Flatten\n",
        "from tensorflow.keras.constraints import max_norm"
      ]
    },
    {
      "cell_type": "code",
      "execution_count": 16,
      "metadata": {
        "colab": {
          "base_uri": "https://localhost:8080/"
        },
        "id": "OCUyBSH1hvqG",
        "outputId": "8050c2e2-a3f4-4564-c151-1ada865f7dac"
      },
      "outputs": [
        {
          "name": "stdout",
          "output_type": "stream",
          "text": [
            "Model: \"model\"\n",
            "_________________________________________________________________\n",
            " Layer (type)                Output Shape              Param #   \n",
            "=================================================================\n",
            " input_1 (InputLayer)        [(None, 22, 200, 1)]      0         \n",
            "                                                                 \n",
            " conv2d (Conv2D)             (None, 22, 200, 16)       1024      \n",
            "                                                                 \n",
            " batch_normalization (BatchN  (None, 22, 200, 16)      64        \n",
            " ormalization)                                                   \n",
            "                                                                 \n",
            " depthwise_conv2d (Depthwise  (None, 1, 200, 64)       1408      \n",
            " Conv2D)                                                         \n",
            "                                                                 \n",
            " batch_normalization_1 (Batc  (None, 1, 200, 64)       256       \n",
            " hNormalization)                                                 \n",
            "                                                                 \n",
            " activation (Activation)     (None, 1, 200, 64)        0         \n",
            "                                                                 \n",
            " average_pooling2d (AverageP  (None, 1, 50, 64)        0         \n",
            " ooling2D)                                                       \n",
            "                                                                 \n",
            " dropout (Dropout)           (None, 1, 50, 64)         0         \n",
            "                                                                 \n",
            " separable_conv2d (Separable  (None, 1, 50, 32)        3072      \n",
            " Conv2D)                                                         \n",
            "                                                                 \n",
            " batch_normalization_2 (Batc  (None, 1, 50, 32)        128       \n",
            " hNormalization)                                                 \n",
            "                                                                 \n",
            " activation_1 (Activation)   (None, 1, 50, 32)         0         \n",
            "                                                                 \n",
            " average_pooling2d_1 (Averag  (None, 1, 6, 32)         0         \n",
            " ePooling2D)                                                     \n",
            "                                                                 \n",
            " dropout_1 (Dropout)         (None, 1, 6, 32)          0         \n",
            "                                                                 \n",
            " flatten (Flatten)           (None, 192)               0         \n",
            "                                                                 \n",
            " dense (Dense)               (None, 6)                 1158      \n",
            "                                                                 \n",
            " softmax (Activation)        (None, 6)                 0         \n",
            "                                                                 \n",
            "=================================================================\n",
            "Total params: 7,110\n",
            "Trainable params: 6,886\n",
            "Non-trainable params: 224\n",
            "_________________________________________________________________\n",
            "Epoch 1/50\n",
            "19/19 [==============================] - 5s 25ms/step - loss: 1.5691 - accuracy: 0.5199 - val_loss: 1.6331 - val_accuracy: 0.8026\n",
            "Epoch 2/50\n",
            "19/19 [==============================] - 0s 9ms/step - loss: 1.0547 - accuracy: 0.8179 - val_loss: 1.5005 - val_accuracy: 0.8224\n",
            "Epoch 3/50\n",
            "19/19 [==============================] - 0s 8ms/step - loss: 0.7800 - accuracy: 0.8725 - val_loss: 1.3982 - val_accuracy: 0.8882\n",
            "Epoch 4/50\n",
            "19/19 [==============================] - 0s 8ms/step - loss: 0.6534 - accuracy: 0.9189 - val_loss: 1.3250 - val_accuracy: 0.9211\n",
            "Epoch 5/50\n",
            "19/19 [==============================] - 0s 8ms/step - loss: 0.5694 - accuracy: 0.9354 - val_loss: 1.2662 - val_accuracy: 0.9539\n",
            "Epoch 6/50\n",
            "19/19 [==============================] - 0s 8ms/step - loss: 0.5329 - accuracy: 0.9520 - val_loss: 1.2095 - val_accuracy: 0.9605\n",
            "Epoch 7/50\n",
            "19/19 [==============================] - 0s 8ms/step - loss: 0.4890 - accuracy: 0.9503 - val_loss: 1.1696 - val_accuracy: 0.9474\n",
            "Epoch 8/50\n",
            "19/19 [==============================] - 0s 8ms/step - loss: 0.4445 - accuracy: 0.9702 - val_loss: 1.1113 - val_accuracy: 0.9671\n",
            "Epoch 9/50\n",
            "19/19 [==============================] - 0s 8ms/step - loss: 0.4268 - accuracy: 0.9685 - val_loss: 1.0696 - val_accuracy: 0.9408\n",
            "Epoch 10/50\n",
            "19/19 [==============================] - 0s 7ms/step - loss: 0.3992 - accuracy: 0.9834 - val_loss: 0.9705 - val_accuracy: 0.9408\n",
            "Epoch 11/50\n",
            "19/19 [==============================] - 0s 7ms/step - loss: 0.3829 - accuracy: 0.9801 - val_loss: 0.9024 - val_accuracy: 0.9342\n",
            "Epoch 12/50\n",
            "19/19 [==============================] - 0s 8ms/step - loss: 0.3734 - accuracy: 0.9818 - val_loss: 0.8577 - val_accuracy: 0.9342\n",
            "Epoch 13/50\n",
            "19/19 [==============================] - 0s 7ms/step - loss: 0.3601 - accuracy: 0.9818 - val_loss: 0.7921 - val_accuracy: 0.9211\n",
            "Epoch 14/50\n",
            "19/19 [==============================] - 0s 7ms/step - loss: 0.3385 - accuracy: 0.9818 - val_loss: 0.6942 - val_accuracy: 0.9342\n",
            "Epoch 15/50\n",
            "19/19 [==============================] - 0s 7ms/step - loss: 0.3256 - accuracy: 0.9818 - val_loss: 0.6552 - val_accuracy: 0.9408\n",
            "Epoch 16/50\n",
            "19/19 [==============================] - 0s 7ms/step - loss: 0.3236 - accuracy: 0.9801 - val_loss: 0.5827 - val_accuracy: 0.9276\n",
            "Epoch 17/50\n",
            "19/19 [==============================] - 0s 8ms/step - loss: 0.3103 - accuracy: 0.9834 - val_loss: 0.5410 - val_accuracy: 0.9342\n",
            "Epoch 18/50\n",
            "19/19 [==============================] - 0s 8ms/step - loss: 0.3064 - accuracy: 0.9818 - val_loss: 0.4782 - val_accuracy: 0.9803\n",
            "Epoch 19/50\n",
            "19/19 [==============================] - 0s 8ms/step - loss: 0.2988 - accuracy: 0.9752 - val_loss: 0.4366 - val_accuracy: 0.9737\n",
            "Epoch 20/50\n",
            "19/19 [==============================] - 0s 7ms/step - loss: 0.2910 - accuracy: 0.9785 - val_loss: 0.4044 - val_accuracy: 0.9605\n",
            "Epoch 21/50\n",
            "19/19 [==============================] - 0s 8ms/step - loss: 0.2721 - accuracy: 0.9851 - val_loss: 0.3662 - val_accuracy: 0.9803\n",
            "Epoch 22/50\n",
            "19/19 [==============================] - 0s 8ms/step - loss: 0.2712 - accuracy: 0.9851 - val_loss: 0.3379 - val_accuracy: 0.9737\n",
            "Epoch 23/50\n",
            "19/19 [==============================] - 0s 8ms/step - loss: 0.2617 - accuracy: 0.9884 - val_loss: 0.2964 - val_accuracy: 0.9737\n",
            "Epoch 24/50\n",
            "19/19 [==============================] - 0s 8ms/step - loss: 0.2499 - accuracy: 0.9851 - val_loss: 0.3114 - val_accuracy: 0.9737\n",
            "Epoch 25/50\n",
            "19/19 [==============================] - 0s 8ms/step - loss: 0.2388 - accuracy: 0.9834 - val_loss: 0.2788 - val_accuracy: 0.9868\n",
            "Epoch 26/50\n",
            "19/19 [==============================] - 0s 7ms/step - loss: 0.2492 - accuracy: 0.9834 - val_loss: 0.2619 - val_accuracy: 0.9803\n",
            "Epoch 27/50\n",
            "19/19 [==============================] - 0s 7ms/step - loss: 0.2421 - accuracy: 0.9818 - val_loss: 0.2556 - val_accuracy: 0.9803\n",
            "Epoch 28/50\n",
            "19/19 [==============================] - 0s 8ms/step - loss: 0.2334 - accuracy: 0.9884 - val_loss: 0.2313 - val_accuracy: 0.9868\n",
            "Epoch 29/50\n",
            "19/19 [==============================] - 0s 8ms/step - loss: 0.2194 - accuracy: 0.9950 - val_loss: 0.2311 - val_accuracy: 0.9934\n",
            "Epoch 30/50\n",
            "19/19 [==============================] - 0s 7ms/step - loss: 0.2138 - accuracy: 0.9851 - val_loss: 0.2154 - val_accuracy: 0.9934\n",
            "Epoch 31/50\n",
            "19/19 [==============================] - 0s 8ms/step - loss: 0.2122 - accuracy: 0.9917 - val_loss: 0.2189 - val_accuracy: 0.9868\n",
            "Epoch 32/50\n",
            "19/19 [==============================] - 0s 8ms/step - loss: 0.2071 - accuracy: 0.9901 - val_loss: 0.2015 - val_accuracy: 0.9868\n",
            "Epoch 33/50\n",
            "19/19 [==============================] - 0s 8ms/step - loss: 0.1955 - accuracy: 0.9851 - val_loss: 0.1904 - val_accuracy: 0.9934\n",
            "Epoch 34/50\n",
            "19/19 [==============================] - 0s 8ms/step - loss: 0.1787 - accuracy: 0.9983 - val_loss: 0.1823 - val_accuracy: 0.9934\n",
            "Epoch 35/50\n",
            "19/19 [==============================] - 0s 9ms/step - loss: 0.1929 - accuracy: 0.9834 - val_loss: 0.1855 - val_accuracy: 0.9934\n",
            "Epoch 36/50\n",
            "19/19 [==============================] - 0s 7ms/step - loss: 0.1933 - accuracy: 0.9884 - val_loss: 0.1781 - val_accuracy: 0.9934\n",
            "Epoch 37/50\n",
            "19/19 [==============================] - 0s 7ms/step - loss: 0.1791 - accuracy: 0.9934 - val_loss: 0.1636 - val_accuracy: 0.9934\n",
            "Epoch 38/50\n",
            "19/19 [==============================] - 0s 8ms/step - loss: 0.1775 - accuracy: 0.9934 - val_loss: 0.1668 - val_accuracy: 0.9934\n",
            "Epoch 39/50\n",
            "19/19 [==============================] - 0s 7ms/step - loss: 0.1822 - accuracy: 0.9851 - val_loss: 0.1648 - val_accuracy: 0.9868\n",
            "Epoch 40/50\n",
            "19/19 [==============================] - 0s 7ms/step - loss: 0.1624 - accuracy: 0.9934 - val_loss: 0.1591 - val_accuracy: 0.9934\n",
            "Epoch 41/50\n",
            "19/19 [==============================] - 0s 7ms/step - loss: 0.1689 - accuracy: 0.9901 - val_loss: 0.1473 - val_accuracy: 0.9934\n",
            "Epoch 42/50\n",
            "19/19 [==============================] - 0s 8ms/step - loss: 0.1651 - accuracy: 0.9901 - val_loss: 0.1413 - val_accuracy: 0.9868\n",
            "Epoch 43/50\n",
            "19/19 [==============================] - 0s 7ms/step - loss: 0.1698 - accuracy: 0.9851 - val_loss: 0.1485 - val_accuracy: 0.9934\n",
            "Epoch 44/50\n",
            "19/19 [==============================] - 0s 9ms/step - loss: 0.1518 - accuracy: 0.9967 - val_loss: 0.1413 - val_accuracy: 0.9868\n",
            "Epoch 45/50\n",
            "19/19 [==============================] - 0s 7ms/step - loss: 0.1508 - accuracy: 0.9950 - val_loss: 0.1394 - val_accuracy: 0.9934\n",
            "Epoch 46/50\n",
            "19/19 [==============================] - 0s 7ms/step - loss: 0.1429 - accuracy: 0.9950 - val_loss: 0.1434 - val_accuracy: 0.9934\n",
            "Epoch 47/50\n",
            "19/19 [==============================] - 0s 7ms/step - loss: 0.1531 - accuracy: 0.9901 - val_loss: 0.1374 - val_accuracy: 0.9934\n",
            "Epoch 48/50\n",
            "19/19 [==============================] - 0s 7ms/step - loss: 0.1495 - accuracy: 0.9983 - val_loss: 0.1339 - val_accuracy: 0.9934\n",
            "Epoch 49/50\n",
            "19/19 [==============================] - 0s 7ms/step - loss: 0.1390 - accuracy: 0.9983 - val_loss: 0.1377 - val_accuracy: 0.9934\n",
            "Epoch 50/50\n",
            "19/19 [==============================] - 0s 7ms/step - loss: 0.1345 - accuracy: 0.9917 - val_loss: 0.1250 - val_accuracy: 0.9934\n",
            "Training time: 21.174053192138672s\n"
          ]
        }
      ],
      "source": [
        "# Build your model here:\n",
        "classes = 6\n",
        "C = 22\n",
        "T = 200\n",
        "dropoutRate = 0.25\n",
        "kernLength = 64\n",
        "F1 = 16\n",
        "D = 4\n",
        "F2 = 32\n",
        "norm_rate = 0.25\n",
        "epoch = 50\n",
        "input1 = Input(shape = (C, T, 1))\n",
        "\n",
        "block1 = Conv2D(F1, (1, kernLength), padding = 'same',\n",
        "                                input_shape = (C, T, 1),\n",
        "                                use_bias = False)(input1)\n",
        "block1 = BatchNormalization()(block1)\n",
        "block1 = DepthwiseConv2D((C, 1), use_bias = False,\n",
        "                                depth_multiplier = D,\n",
        "                                depthwise_constraint = max_norm(1.))(block1)\n",
        "block1 = BatchNormalization()(block1)\n",
        "block1 = Activation('elu')(block1)\n",
        "block1 = AveragePooling2D((1, 4))(block1)\n",
        "block1 = Dropout(dropoutRate)(block1)\n",
        "\n",
        "block2 = SeparableConv2D(F2, (1, 16),\n",
        "                                use_bias = False, padding = 'same')(block1)\n",
        "block2 = BatchNormalization()(block2)\n",
        "block2 = Activation('elu')(block2)\n",
        "block2 = AveragePooling2D((1, 8))(block2)\n",
        "block2 = Dropout(dropoutRate)(block2)\n",
        "flatten = Flatten(name = 'flatten')(block2)\n",
        "\n",
        "dense = Dense(classes, name = 'dense',\n",
        "                      kernel_constraint = max_norm(norm_rate))(flatten)\n",
        "softmax = Activation('softmax', name = 'softmax')(dense)\n",
        "\n",
        "model = Model(inputs=input1, outputs=softmax)\n",
        "model.summary()\n",
        "\n",
        "model.compile(loss='sparse_categorical_crossentropy', optimizer='adam',\n",
        "              metrics=['accuracy'])\n",
        "\n",
        "start = time.time()\n",
        "history = model.fit(X_train, Y_train,batch_size = 32, epochs=epoch, validation_data=(X_val, Y_val))\n",
        "stop = time.time()\n",
        "print(f\"Training time: {stop - start}s\")"
      ]
    },
    {
      "cell_type": "code",
      "execution_count": 17,
      "metadata": {
        "colab": {
          "base_uri": "https://localhost:8080/",
          "height": 296
        },
        "id": "A1wh9xOjsdip",
        "outputId": "1b947cc4-8bef-4e86-8e47-459321f1c805"
      },
      "outputs": [
        {
          "data": {
            "text/plain": [
              "<matplotlib.legend.Legend at 0x7faeac07ee50>"
            ]
          },
          "execution_count": 17,
          "metadata": {},
          "output_type": "execute_result"
        },
        {
          "data": {
            "image/png": "[encoded data removed]",
            "text/plain": [
              "<Figure size 432x288 with 1 Axes>"
            ]
          },
          "metadata": {
            "needs_background": "light"
          },
          "output_type": "display_data"
        }
      ],
      "source": [
        "plt.plot(history.history['loss'], label='loss')\n",
        "plt.xlabel('Epoch')\n",
        "plt.ylabel('loss')\n",
        "\n",
        "# plt.ylim([0.5, 1])\n",
        "plt.legend(loc='lower right')\n",
        "\n"
      ]
    },
    {
      "cell_type": "code",
      "execution_count": 18,
      "metadata": {
        "colab": {
          "base_uri": "https://localhost:8080/",
          "height": 296
        },
        "id": "qFWKq7C_sghP",
        "outputId": "14ef3f41-5161-4c8c-9c20-f75ec4a2e095"
      },
      "outputs": [
        {
          "data": {
            "text/plain": [
              "<matplotlib.legend.Legend at 0x7faea708b850>"
            ]
          },
          "execution_count": 18,
          "metadata": {},
          "output_type": "execute_result"
        },
        {
          "data": {
            "image/png": "[encoded data removed]",
            "text/plain": [
              "<Figure size 432x288 with 1 Axes>"
            ]
          },
          "metadata": {
            "needs_background": "light"
          },
          "output_type": "display_data"
        }
      ],
      "source": [
        "\n",
        "plt.plot(history.history['accuracy'], label='accuracy')\n",
        "plt.plot(history.history['val_accuracy'], label = 'val_accuracy')\n",
        "plt.xlabel('Epoch')\n",
        "plt.ylabel('Accuracy')\n",
        "# plt.ylim([0.5, 1])\n",
        "plt.legend(loc='lower right')"
      ]
    },
    {
      "cell_type": "code",
      "execution_count": 19,
      "metadata": {
        "colab": {
          "base_uri": "https://localhost:8080/"
        },
        "id": "P2OowDzQekvo",
        "outputId": "a0d3c2d7-4264-4e5c-c64a-fc59b416849f"
      },
      "outputs": [
        {
          "name": "stdout",
          "output_type": "stream",
          "text": [
            "6/6 [==============================] - 0s 8ms/step\n",
            "[0 3 4 2 5 1 0 0 5 1 2 0 0 5 5 3 5 5 3 5 1 1 5 5 4 3 2 1 0 2 5 3 0 0 2 0 5\n",
            " 5 2 2 4 0 4 4 2 0 3 0 4 2 2 4 4 3 4 0 5 2 0 1 3 5 1 1 4 3 1 2 0 4 5 4 0 3\n",
            " 2 3 3 4 3 2 1 4 0 1 1 3 4 1 1 4 2 5 5 2 4 1 0 5 2 5 3 4 3 2 4 4 1 2 0 0 1\n",
            " 0 2 4 3 4 1 4 1 1 5 5 3 1 3 0 0 1 3 1 0 5 0 2 3 2 2 0 3 3 5 0 2 5 4 0 3 3\n",
            " 0 1 5 3 1 2 1 0 2 0 2 3 1 1 3 5 0 5 5 5 4 1 2 1 5 2 4 4 1 4 0 4 2 3 4 2 4\n",
            " 0 0 1 0 1]\n"
          ]
        }
      ],
      "source": [
        "pred_test = model.predict(X_test)\n",
        "pred_test = np.argmax(pred_test, axis = 1)\n",
        "print(pred_test)"
      ]
    },
    {
      "cell_type": "code",
      "execution_count": 20,
      "metadata": {
        "id": "Ge8jZUU8gve3"
      },
      "outputs": [],
      "source": [
        "output = pred_test.reshape(190,1)\n",
        "assert(output.shape == (190, 1))\n",
        "np.savetxt('eegnet_output.csv', output, delimiter=\",\")"
      ]
    },
    {
      "cell_type": "markdown",
      "metadata": {
        "id": "qnHnQ_yVerBo"
      },
      "source": [
        "## Model Competition Part"
      ]
    },
    {
      "cell_type": "code",
      "execution_count": 21,
      "metadata": {
        "colab": {
          "base_uri": "https://localhost:8080/"
        },
        "id": "zlhO90b9iB_-",
        "outputId": "8aaa57a1-60bc-4541-a5fd-4887d51f7545"
      },
      "outputs": [
        {
          "name": "stdout",
          "output_type": "stream",
          "text": [
            "Model: \"model_1\"\n",
            "_________________________________________________________________\n",
            " Layer (type)                Output Shape              Param #   \n",
            "=================================================================\n",
            " input_2 (InputLayer)        [(None, 22, 200, 1)]      0         \n",
            "                                                                 \n",
            " conv2d_1 (Conv2D)           (None, 22, 200, 16)       1024      \n",
            "                                                                 \n",
            " batch_normalization_3 (Batc  (None, 22, 200, 16)      64        \n",
            " hNormalization)                                                 \n",
            "                                                                 \n",
            " depthwise_conv2d_1 (Depthwi  (None, 1, 200, 64)       1408      \n",
            " seConv2D)                                                       \n",
            "                                                                 \n",
            " batch_normalization_4 (Batc  (None, 1, 200, 64)       256       \n",
            " hNormalization)                                                 \n",
            "                                                                 \n",
            " activation_2 (Activation)   (None, 1, 200, 64)        0         \n",
            "                                                                 \n",
            " average_pooling2d_2 (Averag  (None, 1, 50, 64)        0         \n",
            " ePooling2D)                                                     \n",
            "                                                                 \n",
            " dropout_2 (Dropout)         (None, 1, 50, 64)         0         \n",
            "                                                                 \n",
            " separable_conv2d_1 (Separab  (None, 1, 50, 32)        3072      \n",
            " leConv2D)                                                       \n",
            "                                                                 \n",
            " batch_normalization_5 (Batc  (None, 1, 50, 32)        128       \n",
            " hNormalization)                                                 \n",
            "                                                                 \n",
            " activation_3 (Activation)   (None, 1, 50, 32)         0         \n",
            "                                                                 \n",
            " average_pooling2d_3 (Averag  (None, 1, 6, 32)         0         \n",
            " ePooling2D)                                                     \n",
            "                                                                 \n",
            " dropout_3 (Dropout)         (None, 1, 6, 32)          0         \n",
            "                                                                 \n",
            " flatten (Flatten)           (None, 192)               0         \n",
            "                                                                 \n",
            " dense (Dense)               (None, 6)                 1158      \n",
            "                                                                 \n",
            " softmax (Activation)        (None, 6)                 0         \n",
            "                                                                 \n",
            "=================================================================\n",
            "Total params: 7,110\n",
            "Trainable params: 6,886\n",
            "Non-trainable params: 224\n",
            "_________________________________________________________________\n",
            "Epoch 1/50\n",
            "19/19 [==============================] - 1s 19ms/step - loss: 1.4694 - accuracy: 0.5033 - val_loss: 1.6026 - val_accuracy: 0.7895\n",
            "Epoch 2/50\n",
            "19/19 [==============================] - 0s 11ms/step - loss: 0.8771 - accuracy: 0.8162 - val_loss: 1.4506 - val_accuracy: 0.8750\n",
            "Epoch 3/50\n",
            "19/19 [==============================] - 0s 9ms/step - loss: 0.5717 - accuracy: 0.8825 - val_loss: 1.3379 - val_accuracy: 0.9276\n",
            "Epoch 4/50\n",
            "19/19 [==============================] - 0s 8ms/step - loss: 0.4170 - accuracy: 0.9354 - val_loss: 1.2348 - val_accuracy: 0.9474\n",
            "Epoch 5/50\n",
            "19/19 [==============================] - 0s 8ms/step - loss: 0.3344 - accuracy: 0.9470 - val_loss: 1.1183 - val_accuracy: 0.9671\n",
            "Epoch 6/50\n",
            "19/19 [==============================] - 0s 9ms/step - loss: 0.2704 - accuracy: 0.9702 - val_loss: 1.0214 - val_accuracy: 0.9671\n",
            "Epoch 7/50\n",
            "19/19 [==============================] - 0s 9ms/step - loss: 0.2272 - accuracy: 0.9685 - val_loss: 0.9388 - val_accuracy: 0.9671\n",
            "Epoch 8/50\n",
            "19/19 [==============================] - 0s 8ms/step - loss: 0.2128 - accuracy: 0.9719 - val_loss: 0.8091 - val_accuracy: 0.9803\n",
            "Epoch 9/50\n",
            "19/19 [==============================] - 0s 7ms/step - loss: 0.1892 - accuracy: 0.9818 - val_loss: 0.7230 - val_accuracy: 0.9803\n",
            "Epoch 10/50\n",
            "19/19 [==============================] - 0s 8ms/step - loss: 0.1709 - accuracy: 0.9785 - val_loss: 0.6327 - val_accuracy: 0.9803\n",
            "Epoch 11/50\n",
            "19/19 [==============================] - 0s 7ms/step - loss: 0.1646 - accuracy: 0.9768 - val_loss: 0.5611 - val_accuracy: 0.9803\n",
            "Epoch 12/50\n",
            "19/19 [==============================] - 0s 8ms/step - loss: 0.1430 - accuracy: 0.9868 - val_loss: 0.4928 - val_accuracy: 0.9934\n",
            "Epoch 13/50\n",
            "19/19 [==============================] - 0s 8ms/step - loss: 0.1406 - accuracy: 0.9834 - val_loss: 0.4297 - val_accuracy: 0.9803\n",
            "Epoch 14/50\n",
            "19/19 [==============================] - 0s 7ms/step - loss: 0.1288 - accuracy: 0.9934 - val_loss: 0.3674 - val_accuracy: 0.9868\n",
            "Epoch 15/50\n",
            "19/19 [==============================] - 0s 7ms/step - loss: 0.1222 - accuracy: 0.9851 - val_loss: 0.3200 - val_accuracy: 0.9934\n",
            "Epoch 16/50\n",
            "19/19 [==============================] - 0s 8ms/step - loss: 0.1141 - accuracy: 0.9901 - val_loss: 0.2861 - val_accuracy: 0.9803\n",
            "Epoch 17/50\n",
            "19/19 [==============================] - 0s 7ms/step - loss: 0.1007 - accuracy: 0.9901 - val_loss: 0.2557 - val_accuracy: 0.9868\n",
            "Epoch 18/50\n",
            "19/19 [==============================] - 0s 8ms/step - loss: 0.0998 - accuracy: 0.9950 - val_loss: 0.2206 - val_accuracy: 0.9868\n",
            "Epoch 19/50\n",
            "19/19 [==============================] - 0s 7ms/step - loss: 0.1010 - accuracy: 0.9934 - val_loss: 0.1926 - val_accuracy: 0.9934\n",
            "Epoch 20/50\n",
            "19/19 [==============================] - 0s 8ms/step - loss: 0.0961 - accuracy: 0.9901 - val_loss: 0.1784 - val_accuracy: 0.9803\n",
            "Epoch 21/50\n",
            "19/19 [==============================] - 0s 7ms/step - loss: 0.0904 - accuracy: 0.9934 - val_loss: 0.1556 - val_accuracy: 0.9934\n",
            "Epoch 22/50\n",
            "19/19 [==============================] - 0s 7ms/step - loss: 0.0811 - accuracy: 0.9901 - val_loss: 0.1392 - val_accuracy: 0.9934\n",
            "Epoch 23/50\n",
            "19/19 [==============================] - 0s 7ms/step - loss: 0.0781 - accuracy: 0.9950 - val_loss: 0.1274 - val_accuracy: 0.9934\n",
            "Epoch 24/50\n",
            "19/19 [==============================] - 0s 8ms/step - loss: 0.0819 - accuracy: 0.9967 - val_loss: 0.1174 - val_accuracy: 0.9934\n",
            "Epoch 25/50\n",
            "19/19 [==============================] - 0s 7ms/step - loss: 0.0751 - accuracy: 0.9967 - val_loss: 0.1181 - val_accuracy: 0.9934\n",
            "Epoch 26/50\n",
            "19/19 [==============================] - 0s 8ms/step - loss: 0.0684 - accuracy: 1.0000 - val_loss: 0.1074 - val_accuracy: 0.9934\n",
            "Epoch 27/50\n",
            "19/19 [==============================] - 0s 7ms/step - loss: 0.0673 - accuracy: 0.9950 - val_loss: 0.1071 - val_accuracy: 0.9934\n",
            "Epoch 28/50\n",
            "19/19 [==============================] - 0s 8ms/step - loss: 0.0769 - accuracy: 0.9917 - val_loss: 0.0942 - val_accuracy: 0.9934\n",
            "Epoch 29/50\n",
            "19/19 [==============================] - 0s 7ms/step - loss: 0.0673 - accuracy: 0.9983 - val_loss: 0.0885 - val_accuracy: 0.9934\n",
            "Epoch 30/50\n",
            "19/19 [==============================] - 0s 7ms/step - loss: 0.0580 - accuracy: 0.9983 - val_loss: 0.0897 - val_accuracy: 0.9934\n",
            "Epoch 31/50\n",
            "19/19 [==============================] - 0s 8ms/step - loss: 0.0609 - accuracy: 1.0000 - val_loss: 0.0797 - val_accuracy: 0.9934\n",
            "Epoch 32/50\n",
            "19/19 [==============================] - 0s 8ms/step - loss: 0.0656 - accuracy: 0.9950 - val_loss: 0.0836 - val_accuracy: 0.9934\n",
            "Epoch 33/50\n",
            "19/19 [==============================] - 0s 8ms/step - loss: 0.0649 - accuracy: 0.9950 - val_loss: 0.0720 - val_accuracy: 0.9934\n",
            "Epoch 34/50\n",
            "19/19 [==============================] - 0s 7ms/step - loss: 0.0567 - accuracy: 0.9967 - val_loss: 0.0772 - val_accuracy: 0.9934\n",
            "Epoch 35/50\n",
            "19/19 [==============================] - 0s 8ms/step - loss: 0.0553 - accuracy: 0.9967 - val_loss: 0.0741 - val_accuracy: 0.9934\n",
            "Epoch 36/50\n",
            "19/19 [==============================] - 0s 8ms/step - loss: 0.0516 - accuracy: 0.9983 - val_loss: 0.0759 - val_accuracy: 0.9934\n",
            "Epoch 37/50\n",
            "19/19 [==============================] - 0s 8ms/step - loss: 0.0538 - accuracy: 0.9983 - val_loss: 0.0680 - val_accuracy: 0.9934\n",
            "Epoch 38/50\n",
            "19/19 [==============================] - 0s 9ms/step - loss: 0.0506 - accuracy: 1.0000 - val_loss: 0.0741 - val_accuracy: 0.9934\n",
            "Epoch 39/50\n",
            "19/19 [==============================] - 0s 9ms/step - loss: 0.0512 - accuracy: 0.9983 - val_loss: 0.0732 - val_accuracy: 0.9934\n",
            "Epoch 40/50\n",
            "19/19 [==============================] - 0s 8ms/step - loss: 0.0530 - accuracy: 0.9967 - val_loss: 0.0591 - val_accuracy: 0.9934\n",
            "Epoch 41/50\n",
            "19/19 [==============================] - 0s 9ms/step - loss: 0.0519 - accuracy: 0.9967 - val_loss: 0.0687 - val_accuracy: 0.9934\n",
            "Epoch 42/50\n",
            "19/19 [==============================] - 0s 8ms/step - loss: 0.0453 - accuracy: 1.0000 - val_loss: 0.0587 - val_accuracy: 0.9934\n",
            "Epoch 43/50\n",
            "19/19 [==============================] - 0s 8ms/step - loss: 0.0487 - accuracy: 0.9950 - val_loss: 0.0628 - val_accuracy: 0.9934\n",
            "Epoch 44/50\n",
            "19/19 [==============================] - 0s 8ms/step - loss: 0.0456 - accuracy: 0.9983 - val_loss: 0.0603 - val_accuracy: 0.9934\n",
            "Epoch 45/50\n",
            "19/19 [==============================] - 0s 8ms/step - loss: 0.0451 - accuracy: 0.9967 - val_loss: 0.0548 - val_accuracy: 0.9934\n",
            "Epoch 46/50\n",
            "19/19 [==============================] - 0s 8ms/step - loss: 0.0451 - accuracy: 0.9983 - val_loss: 0.0636 - val_accuracy: 0.9934\n",
            "Epoch 47/50\n",
            "19/19 [==============================] - 0s 10ms/step - loss: 0.0395 - accuracy: 0.9983 - val_loss: 0.0596 - val_accuracy: 0.9934\n",
            "Epoch 48/50\n",
            "19/19 [==============================] - 0s 8ms/step - loss: 0.0368 - accuracy: 1.0000 - val_loss: 0.0559 - val_accuracy: 0.9934\n",
            "Epoch 49/50\n",
            "19/19 [==============================] - 0s 8ms/step - loss: 0.0365 - accuracy: 1.0000 - val_loss: 0.0592 - val_accuracy: 0.9934\n",
            "Epoch 50/50\n",
            "19/19 [==============================] - 0s 7ms/step - loss: 0.0354 - accuracy: 1.0000 - val_loss: 0.0552 - val_accuracy: 0.9934\n"
          ]
        }
      ],
      "source": [
        "# Build your model here:\n",
        "\n",
        "# Build your model here:\n",
        "classes = 6\n",
        "C = 22\n",
        "T = 200\n",
        "dropoutRate = 0.25\n",
        "kernLength = 64\n",
        "F1 = 16\n",
        "D = 4\n",
        "F2 = 32\n",
        "norm_rate = 0.5\n",
        "epoch = 50\n",
        "input1 = Input(shape = (C, T, 1))\n",
        "\n",
        "block1 = Conv2D(F1, (1, kernLength), padding = 'same',\n",
        "                                input_shape = (C, T, 1),\n",
        "                                use_bias = False)(input1)\n",
        "block1 = BatchNormalization()(block1)\n",
        "block1 = DepthwiseConv2D((C, 1), use_bias = False,\n",
        "                                depth_multiplier = D,\n",
        "                                depthwise_constraint = max_norm(1.))(block1)\n",
        "block1 = BatchNormalization()(block1)\n",
        "block1 = Activation('elu')(block1)\n",
        "block1 = AveragePooling2D((1, 4))(block1)\n",
        "block1 = Dropout(dropoutRate)(block1)\n",
        "\n",
        "block2 = SeparableConv2D(F2, (1, 16),\n",
        "                                use_bias = False, padding = 'same')(block1)\n",
        "block2 = BatchNormalization()(block2)\n",
        "block2 = Activation('elu')(block2)\n",
        "block2 = AveragePooling2D((1, 8))(block2)\n",
        "block2 = Dropout(dropoutRate)(block2)\n",
        "flatten = Flatten(name = 'flatten')(block2)\n",
        "\n",
        "dense = Dense(classes, name = 'dense',\n",
        "                      kernel_constraint = max_norm(norm_rate))(flatten)\n",
        "softmax = Activation('softmax', name = 'softmax')(dense)\n",
        "\n",
        "model = Model(inputs=input1, outputs=softmax)\n",
        "model.summary()\n",
        "\n",
        "model.compile(loss='sparse_categorical_crossentropy', optimizer='adam',\n",
        "              metrics=['accuracy'])\n",
        "\n",
        "history = model.fit(X_train, Y_train,batch_size = 32, epochs=epoch, validation_data=(X_val, Y_val))"
      ]
    },
    {
      "cell_type": "code",
      "execution_count": 22,
      "metadata": {
        "id": "m097nvkXiIqY"
      },
      "outputs": [],
      "source": [
        "output = pred_test.reshape(190,1)\n",
        "assert(output.shape == (190, 1))\n",
        "np.savetxt('competition_output.csv', output, delimiter=\",\")"
      ]
    }
  ],
  "metadata": {
    "accelerator": "GPU",
    "colab": {
      "provenance": []
    },
    "gpuClass": "standard",
    "kernelspec": {
      "display_name": "Python 3",
      "language": "python",
      "name": "python3"
    },
    "language_info": {
      "codemirror_mode": {
        "name": "ipython",
        "version": 3
      },
      "file_extension": ".py",
      "mimetype": "text/x-python",
      "name": "python",
      "nbconvert_exporter": "python",
      "pygments_lexer": "ipython3",
      "version": "3.11.1 (tags/v3.11.1:a7a450f, Dec  6 2022, 19:58:39) [MSC v.1934 64 bit (AMD64)]"
    },
    "vscode": {
      "interpreter": {
        "hash": "c400d16373922b146373b08a34327b0633beebea6af5a098e7a70755d53ec232"
      }
    }
  },
  "nbformat": 4,
  "nbformat_minor": 0
}
